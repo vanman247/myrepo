{
  "nbformat": 4,
  "nbformat_minor": 0,
  "metadata": {
    "colab": {
      "name": "Assessment.ipynb",
      "provenance": [],
      "collapsed_sections": []
    },
    "kernelspec": {
      "name": "python3",
      "display_name": "Python 3"
    }
  },
  "cells": [
    {
      "cell_type": "markdown",
      "metadata": {
        "id": "E5dpj74Hya2q"
      },
      "source": [
        "# Introduction\n",
        "This assignment will test how well you're able to perform various data science-related tasks.\n",
        "\n",
        "Each Problem Group below will center around a particular dataset that you have worked with before.\n",
        "\n",
        "To ensure you receive full credit for a question, make sure you demonstrate the appropriate pandas, altair, or other commands as requested in the provided code blocks. \n",
        "\n",
        "You may find that some questions require multiple steps to fully answer. Others require some mental arithmetic in addition to pandas commands. Use your best judgment.\n",
        "\n",
        "## Submission\n",
        "Each problem group asks a series of questions. This assignment consists of two submissions:\n",
        "\n",
        "1. After completing the questions below, open the Module 01 Assessment Quiz in Canvas and enter your answers to these questions there.\n",
        "\n",
        "2. After completing and submitting the quiz, save this Colab notebook as a GitHub Gist (You'll need to create a GitHub account for this), by selecting `Save a copy as a GitHub Gist` from the `File` menu above.\n",
        "\n",
        "    In Canvas, open the Module 01 Assessment GitHub Gist assignment and paste the GitHub Gist URL for this notebook. Then submit that assignment."
      ]
    },
    {
      "cell_type": "markdown",
      "metadata": {
        "id": "WgYhh-W3xk4e"
      },
      "source": [
        "## Problem Group 1\n",
        "\n",
        "For the questions in this group, you'll work with the Netflix Movies Dataset found at this url: [https://raw.githubusercontent.com/byui-cse/cse450-course/master/data/netflix_titles.csv](https://raw.githubusercontent.com/byui-cse/cse450-course/master/data/netflix_titles.csv)\n"
      ]
    },
    {
      "cell_type": "markdown",
      "metadata": {
        "id": "kulUs9K7xxB3"
      },
      "source": [
        "### Question 1\n",
        "Load the dataset into a Pandas data frame and determine what data type is used to store the `release_year` feature."
      ]
    },
    {
      "cell_type": "code",
      "metadata": {
        "id": "ecSfSVrsxjx5",
        "colab": {
          "base_uri": "https://localhost:8080/",
          "height": 682
        },
        "outputId": "2cca2e34-e5c6-4227-cb93-7c40a6145944"
      },
      "source": [
        "import pandas as pd\n",
        "import numpy as np\n",
        "url = \"https://raw.githubusercontent.com/byui-cse/cse450-course/master/data/netflix_titles.csv\"\n",
        "df = pd.read_csv(url)\n",
        "df.info()\n",
        "df.head()"
      ],
      "execution_count": 25,
      "outputs": [
        {
          "output_type": "stream",
          "text": [
            "<class 'pandas.core.frame.DataFrame'>\n",
            "RangeIndex: 6234 entries, 0 to 6233\n",
            "Data columns (total 12 columns):\n",
            " #   Column        Non-Null Count  Dtype \n",
            "---  ------        --------------  ----- \n",
            " 0   show_id       6234 non-null   int64 \n",
            " 1   type          6234 non-null   object\n",
            " 2   title         6234 non-null   object\n",
            " 3   director      4265 non-null   object\n",
            " 4   cast          5664 non-null   object\n",
            " 5   country       5758 non-null   object\n",
            " 6   date_added    6223 non-null   object\n",
            " 7   release_year  6234 non-null   int64 \n",
            " 8   rating        6224 non-null   object\n",
            " 9   duration      6234 non-null   object\n",
            " 10  listed_in     6234 non-null   object\n",
            " 11  description   6234 non-null   object\n",
            "dtypes: int64(2), object(10)\n",
            "memory usage: 584.6+ KB\n"
          ],
          "name": "stdout"
        },
        {
          "output_type": "execute_result",
          "data": {
            "text/html": [
              "<div>\n",
              "<style scoped>\n",
              "    .dataframe tbody tr th:only-of-type {\n",
              "        vertical-align: middle;\n",
              "    }\n",
              "\n",
              "    .dataframe tbody tr th {\n",
              "        vertical-align: top;\n",
              "    }\n",
              "\n",
              "    .dataframe thead th {\n",
              "        text-align: right;\n",
              "    }\n",
              "</style>\n",
              "<table border=\"1\" class=\"dataframe\">\n",
              "  <thead>\n",
              "    <tr style=\"text-align: right;\">\n",
              "      <th></th>\n",
              "      <th>show_id</th>\n",
              "      <th>type</th>\n",
              "      <th>title</th>\n",
              "      <th>director</th>\n",
              "      <th>cast</th>\n",
              "      <th>country</th>\n",
              "      <th>date_added</th>\n",
              "      <th>release_year</th>\n",
              "      <th>rating</th>\n",
              "      <th>duration</th>\n",
              "      <th>listed_in</th>\n",
              "      <th>description</th>\n",
              "    </tr>\n",
              "  </thead>\n",
              "  <tbody>\n",
              "    <tr>\n",
              "      <th>0</th>\n",
              "      <td>81145628</td>\n",
              "      <td>Movie</td>\n",
              "      <td>Norm of the North: King Sized Adventure</td>\n",
              "      <td>Richard Finn, Tim Maltby</td>\n",
              "      <td>Alan Marriott, Andrew Toth, Brian Dobson, Cole...</td>\n",
              "      <td>United States, India, South Korea, China</td>\n",
              "      <td>September 9, 2019</td>\n",
              "      <td>2019</td>\n",
              "      <td>TV-PG</td>\n",
              "      <td>90 min</td>\n",
              "      <td>Children &amp; Family Movies, Comedies</td>\n",
              "      <td>Before planning an awesome wedding for his gra...</td>\n",
              "    </tr>\n",
              "    <tr>\n",
              "      <th>1</th>\n",
              "      <td>80117401</td>\n",
              "      <td>Movie</td>\n",
              "      <td>Jandino: Whatever it Takes</td>\n",
              "      <td>NaN</td>\n",
              "      <td>Jandino Asporaat</td>\n",
              "      <td>United Kingdom</td>\n",
              "      <td>September 9, 2016</td>\n",
              "      <td>2016</td>\n",
              "      <td>TV-MA</td>\n",
              "      <td>94 min</td>\n",
              "      <td>Stand-Up Comedy</td>\n",
              "      <td>Jandino Asporaat riffs on the challenges of ra...</td>\n",
              "    </tr>\n",
              "    <tr>\n",
              "      <th>2</th>\n",
              "      <td>70234439</td>\n",
              "      <td>TV Show</td>\n",
              "      <td>Transformers Prime</td>\n",
              "      <td>NaN</td>\n",
              "      <td>Peter Cullen, Sumalee Montano, Frank Welker, J...</td>\n",
              "      <td>United States</td>\n",
              "      <td>September 8, 2018</td>\n",
              "      <td>2013</td>\n",
              "      <td>TV-Y7-FV</td>\n",
              "      <td>1 Season</td>\n",
              "      <td>Kids' TV</td>\n",
              "      <td>With the help of three human allies, the Autob...</td>\n",
              "    </tr>\n",
              "    <tr>\n",
              "      <th>3</th>\n",
              "      <td>80058654</td>\n",
              "      <td>TV Show</td>\n",
              "      <td>Transformers: Robots in Disguise</td>\n",
              "      <td>NaN</td>\n",
              "      <td>Will Friedle, Darren Criss, Constance Zimmer, ...</td>\n",
              "      <td>United States</td>\n",
              "      <td>September 8, 2018</td>\n",
              "      <td>2016</td>\n",
              "      <td>TV-Y7</td>\n",
              "      <td>1 Season</td>\n",
              "      <td>Kids' TV</td>\n",
              "      <td>When a prison ship crash unleashes hundreds of...</td>\n",
              "    </tr>\n",
              "    <tr>\n",
              "      <th>4</th>\n",
              "      <td>80125979</td>\n",
              "      <td>Movie</td>\n",
              "      <td>#realityhigh</td>\n",
              "      <td>Fernando Lebrija</td>\n",
              "      <td>Nesta Cooper, Kate Walsh, John Michael Higgins...</td>\n",
              "      <td>United States</td>\n",
              "      <td>September 8, 2017</td>\n",
              "      <td>2017</td>\n",
              "      <td>TV-14</td>\n",
              "      <td>99 min</td>\n",
              "      <td>Comedies</td>\n",
              "      <td>When nerdy high schooler Dani finally attracts...</td>\n",
              "    </tr>\n",
              "  </tbody>\n",
              "</table>\n",
              "</div>"
            ],
            "text/plain": [
              "    show_id  ...                                        description\n",
              "0  81145628  ...  Before planning an awesome wedding for his gra...\n",
              "1  80117401  ...  Jandino Asporaat riffs on the challenges of ra...\n",
              "2  70234439  ...  With the help of three human allies, the Autob...\n",
              "3  80058654  ...  When a prison ship crash unleashes hundreds of...\n",
              "4  80125979  ...  When nerdy high schooler Dani finally attracts...\n",
              "\n",
              "[5 rows x 12 columns]"
            ]
          },
          "metadata": {
            "tags": []
          },
          "execution_count": 25
        }
      ]
    },
    {
      "cell_type": "markdown",
      "metadata": {
        "id": "ivpHTGpczpyM"
      },
      "source": [
        "### Question 2\n",
        "Filter your dataset so it contains only `TV Shows`. How many of those TV Shows were rated `TV-Y7`?"
      ]
    },
    {
      "cell_type": "code",
      "metadata": {
        "id": "Zf6QABfXx5Xh",
        "colab": {
          "base_uri": "https://localhost:8080/"
        },
        "outputId": "dbccec59-a1ab-469b-9515-901e852e9b4d"
      },
      "source": [
        "fil = df[df[\"type\"] == \"TV Show\"]\n",
        "fil.value_counts()"
      ],
      "execution_count": 34,
      "outputs": [
        {
          "output_type": "execute_result",
          "data": {
            "text/plain": [
              "show_id   type     title                         director          cast                                                                                                                                                                            country                          date_added          release_year  rating  duration   listed_in                                                          description                                                                                                                                           \n",
              "81183491  TV Show  Jamtara - Sabka Number Ayega  Soumendra Padhi   Amit Sial, Dibyendu Bhattacharya, Aksha Pardhasany, Sparsh Shrivastava, Monika Panwar, Anshumaan Pushkar                                                                        India                            January 10, 2020    2020          TV-MA   1 Season   Crime TV Shows, International TV Shows, TV Dramas                  A group of small-town young men run a lucrative phishing operation, until a corrupt politician wants in on their scheme – and a cop wants to fight it.    1\n",
              "81166978  TV Show  Bring It On, Ghost            Park Joon-hwa     Taecyeon, Kim So-hyun, Kwon Yul, Kim Sang-ho, Kang Ki-young, Lee Da-wit, Kim Min-sang, Yun Seo-hyun                                                                             South Korea                      October 30, 2019    2016          TV-14   1 Season   International TV Shows, Korean TV Shows, Romantic TV Shows         A college student with psychic abilities takes in an amnesiac ghost as his roommate – who ends up helping him hunt down spooky spirits.                   1\n",
              "80028965  TV Show  La Viuda Negra                Alejandro Lozano  Ana Serradilla, Julián Román, Ramiro Meneses, Juan Pablo Gamboa, Eileen Moreno, Luis Alfredo Velasco, Margarita Reyes, Alexander Gil, Luis Roberto Guzmán, Raúl Méndez          Colombia, Mexico, United States  January 15, 2019    2016          TV-14   1 Season   Crime TV Shows, International TV Shows, Spanish-Language TV Shows  Beautiful and ruthless Griselda Blanco, known as the queen of cocaine, becomes Pablo Escobar's boss and governs a world of deceit and death.              1\n",
              "80045203  TV Show  Hjørdis                       Lars Kaalund      Lise Baastrup, Martin Brygmann, Ellen Hillingsø, Nicky Andersen, Nicoline Sharma Rubow, Jasmin Bart-Williams, William Rützou, Marius Due, Robert Hansen                         Denmark                          February 15, 2019   2015          TV-14   1 Season   International TV Shows, TV Comedies, TV Dramas                     This miniseries spinoff of \"Rita\" follows teacher Hjørdis as she plans a school play on bullying featuring a cast of socially awkward students.           1\n",
              "80048568  TV Show  London Spy                    Jakob Verbruggen  Ben Whishaw, Jim Broadbent, Edward Holcroft, Samantha Spiro, Charlotte Rampling, Lorraine Ashbourne, David Hayman, Clarke Peters, Adrian Lester, Harriet Walter                 United Kingdom                   March 31, 2017      2015          TV-MA   1 Season   British TV Shows, Crime TV Shows, International TV Shows           When his reclusive-banker lover disappears, a hard-partying young British hedonist plunges into the dangerous world of espionage to find the truth.       1\n",
              "                                                                                                                                                                                                                                                                                                                                                                                                                                                                                                                                                                     ..\n",
              "80192842  TV Show  Ari Shaffir: Double Negative  Eric Abrams       Ari Shaffir                                                                                                                                                                     United States                    July 18, 2017       2017          TV-MA   1 Season   Stand-Up Comedy & Talk Shows                                       Wry yet thoughtful, comedian Ari Shaffir brings his edgy humor to two fast-paced stand-up specials about children and adulthood.                          1\n",
              "80195198  TV Show  Pine Gap                      Mat King          Parker Sawyers, Jacqueline McKenzie, Steve Toussaint, Tess Haubrich, Stephen Curry, Lewis Fitz-Gerald, Mark Leonard Winter                                                      Australia                        December 7, 2018    2018          TV-MA   1 Season   International TV Shows, TV Dramas                                  At top-secret U.S.-Australian joint defense facility Pine Gap, fissures appear in the critical alliance as spies work with, and against, each other.      1\n",
              "80202129  TV Show  The Five                      Mark Tonderai     Tom Cullen, O.T. Fagbenle, Lee Ingleby, Sarah Solemani, Hannah Arterton, Geraldine James, Michael Maloney, Rade Serbedzija, Jonathan Kerrigan, Don Warrington, Sophia La Porta  United Kingdom                   September 15, 2017  2016          TV-MA   1 Season   British TV Shows, Crime TV Shows, TV Dramas                        Twenty years after 5-year-old Jesse disappears near his home, his DNA turns up at the scene of a woman's murder, baffling his family and the police.      1\n",
              "80203920  TV Show  Nowhere Man                   DJ Chen           Alyssa Chia, Mavis Fan, Joseph Chang, Wang Po-chieh, Jeremiah Zhang, Chou Min-fu, Greg Hsu, Kuo Tze-cheng, Shen Hai-jung, Lu Yi-long                                            Taiwan                           October 31, 2019    2019          TV-MA   1 Season   Crime TV Shows, International TV Shows, TV Action & Adventure      Two nefarious schemes taking place 10 years apart entangle a dauntless triad member, who must break out of prison to rescue a loved one.                  1\n",
              "70142436  TV Show  Merlin                        James Hawes       Colin Morgan, Bradley James, Katie McGrath, Angel Coulby, Richard Wilson, Anthony Head, John Hurt, Nathaniel Parker                                                             United Kingdom                    December 15, 2016  2012          TV-PG   5 Seasons  British TV Shows, International TV Shows, TV Action & Adventure    This family-oriented retelling of the King Arthur legend finds Merlin arriving in Camelot, where he hones his magic skills with the help of his uncle.    1\n",
              "Length: 96, dtype: int64"
            ]
          },
          "metadata": {
            "tags": []
          },
          "execution_count": 34
        }
      ]
    },
    {
      "cell_type": "markdown",
      "metadata": {
        "id": "-esock-41eGo"
      },
      "source": [
        "### Question 3\n",
        "Further filter your dataset so it only contains TV Shows released between the years 2000 and 2009 inclusive. How many of *those* shows were rated `TV-Y7`?"
      ]
    },
    {
      "cell_type": "code",
      "metadata": {
        "id": "cBNHqCgz0WDp",
        "colab": {
          "base_uri": "https://localhost:8080/"
        },
        "outputId": "34b5f5ea-11b4-46b6-a0a2-e65c0422e1e7"
      },
      "source": [
        "filt = fil[fil[\"release_year\"] > 2000]\n",
        "filte = filt[filt[\"release_year\"] < 2009]\n",
        "filte.value_counts()"
      ],
      "execution_count": 35,
      "outputs": [
        {
          "output_type": "execute_result",
          "data": {
            "text/plain": [
              "show_id   type     title                                             director             cast                                                                                                                                                   country         date_added          release_year  rating  duration   listed_in                                             description                                                                                                                                          \n",
              "70235731  TV Show  The Blue Planet: A Natural History of the Oceans  Alastair Fothergill  David Attenborough                                                                                                                                     United Kingdom  October 10, 2015    2001          TV-G    1 Season   British TV Shows, Docuseries, International TV Shows  David Attenborough narrates this definitive exploration of the marine world, from the familiar to the unknown, revealing the sea and its communities.    1\n",
              "70219642  TV Show  Planet Earth: The Complete Collection             Alastair Fothergill  David Attenborough                                                                                                                                     United Kingdom  April 22, 2015      2006          TV-PG   1 Season   British TV Shows, Docuseries, International TV Shows  This landmark series transports nature lovers from the Himalayan Mountains to the depths of the ocean and everywhere in between.                         1\n",
              "70205014  TV Show  Ouran High School Host Club                       Takuya Igarashi      Maaya Sakamoto, Monica Rial, Vic Mignogna, Luci Christian, Mamoru Miyano, Kenichi Suzumura, Mike McFarland, Caitlin Glass, Ayaka Saito, Daisuke Kirii  Japan           April 1, 2017       2006          TV-14   1 Season   Anime Series, Romantic TV Shows, Teen TV Shows        New student Haruhi stumbles on the Ouran High School Host Club, an all-male group that makes money by entertaining the girls of the school.              1\n",
              "70205012  TV Show  Naruto                                            Hayato Date          Junko Takeuchi, Chie Nakamura, Noriaki Sugiyama, Kazuhiko Inoue, Toshihiko Seki, Hidekatsu Shibata, Masako Katsuki, Nana Mizuki                        Japan            September 1, 2019  2008          TV-PG   9 Seasons  Anime Series, International TV Shows                  Guided by the spirit demon within him, orphaned Naruto learns to harness his powers as a ninja in this anime adventure series.                           1\n",
              "dtype: int64"
            ]
          },
          "metadata": {
            "tags": []
          },
          "execution_count": 35
        }
      ]
    },
    {
      "cell_type": "markdown",
      "metadata": {
        "id": "cB4zmoJm3XDj"
      },
      "source": [
        "## Problem Group 2\n",
        "\n",
        "For the questions in this group, you'll work with the Cereal Dataset found at this url: [https://raw.githubusercontent.com/byui-cse/cse450-course/master/data/cereal.csv](https://raw.githubusercontent.com/byui-cse/cse450-course/master/data/cereal.csv)\n"
      ]
    },
    {
      "cell_type": "markdown",
      "metadata": {
        "id": "BE_TdsHa3sMj"
      },
      "source": [
        "### Question 4\n",
        "After importing the dataset into a pandas data frame, determine the median amount of `protein` in cereal brands manufactured by Kelloggs. (`mfr` code \"K\")"
      ]
    },
    {
      "cell_type": "code",
      "metadata": {
        "id": "fBXFGnfP2tfV",
        "colab": {
          "base_uri": "https://localhost:8080/"
        },
        "outputId": "74ca5482-be07-4efe-d50a-9c54b5bebe33"
      },
      "source": [
        "url = \"https://raw.githubusercontent.com/byui-cse/cse450-course/master/data/cereal.csv\"\n",
        "tro = pd.read_csv(url)\n",
        "tro.head(50)\n",
        "pas = tro[tro[\"mfr\"] == \"K\"]\n",
        "pas[\"protein\"].median()"
      ],
      "execution_count": 47,
      "outputs": [
        {
          "output_type": "execute_result",
          "data": {
            "text/plain": [
              "3.0"
            ]
          },
          "metadata": {
            "tags": []
          },
          "execution_count": 47
        }
      ]
    },
    {
      "cell_type": "markdown",
      "metadata": {
        "id": "W3del4PC9NJ-"
      },
      "source": [
        "### Question 5\n",
        "In order to comply with new government regulations, all cereals must now come with a \"Healthiness\" rating. This rating is calculated based on this formula:\n",
        "\n",
        "    healthiness = (protein + fiber) / sugar\n",
        "\n",
        "Create a new `healthiness` column populated with values based on the above formula.\n",
        "\n",
        "Then, determine the median healthiness value for only General Mills cereals (`mfr` = \"G\"), rounded to two decimal places."
      ]
    },
    {
      "cell_type": "code",
      "metadata": {
        "id": "TqFx9yvV6LDX",
        "colab": {
          "base_uri": "https://localhost:8080/"
        },
        "outputId": "4a6eba3a-74dc-4e30-c8bd-666dc8793682"
      },
      "source": [
        "sad = tro[tro[\"mfr\"] == \"G\"]\n",
        "sad\n",
        "sad[\"healthiness\"] = round(((sad.protein + sad.fiber) / sad.sugars), 2)\n",
        "round(sad[\"healthiness\"].median(), 2)"
      ],
      "execution_count": 55,
      "outputs": [
        {
          "output_type": "stream",
          "text": [
            "/usr/local/lib/python3.7/dist-packages/ipykernel_launcher.py:3: SettingWithCopyWarning: \n",
            "A value is trying to be set on a copy of a slice from a DataFrame.\n",
            "Try using .loc[row_indexer,col_indexer] = value instead\n",
            "\n",
            "See the caveats in the documentation: https://pandas.pydata.org/pandas-docs/stable/user_guide/indexing.html#returning-a-view-versus-a-copy\n",
            "  This is separate from the ipykernel package so we can avoid doing imports until\n"
          ],
          "name": "stderr"
        },
        {
          "output_type": "execute_result",
          "data": {
            "text/plain": [
              "0.47"
            ]
          },
          "metadata": {
            "tags": []
          },
          "execution_count": 55
        }
      ]
    },
    {
      "cell_type": "markdown",
      "metadata": {
        "id": "AcuUNAxC-g7c"
      },
      "source": [
        "## Problem Group 3\n",
        "\n",
        "For the questions in this group, you'll work with the Titanic Dataset found at this url: [https://raw.githubusercontent.com/byui-cse/cse450-course/master/data/titanic.csv](https://raw.githubusercontent.com/byui-cse/cse450-course/master/data/titanic.csv)"
      ]
    },
    {
      "cell_type": "markdown",
      "metadata": {
        "id": "POOuuXfYAJQK"
      },
      "source": [
        "### Question 6\n",
        "\n",
        "After loading the dataset into a pandas DataFrame, create a new column called `NameGroup` that contains the first letter of the passenger's surname in lower case.\n",
        "\n",
        "Note that in the dataset, passenger's names are provided in the `Name` column and are listed as:\n",
        "\n",
        "    Surname, Given names\n",
        "\n",
        "For example, if a passenger's `Name` is `Braund, Mr. Owen Harris`, the `NameGroup` column should contain the value `b`.\n",
        "\n",
        "Then count how many passengers have a `NameGroup` value of `k`."
      ]
    },
    {
      "cell_type": "code",
      "metadata": {
        "id": "T80gU65-ASFa",
        "colab": {
          "base_uri": "https://localhost:8080/"
        },
        "outputId": "c3badfaf-3252-40f5-eba1-a0b38f11cb80"
      },
      "source": [
        "url = \"https://raw.githubusercontent.com/byui-cse/cse450-course/master/data/titanic.csv\"\n",
        "stat = pd.read_csv(url)\n",
        "stat[\"NameGroup\"]= stat['Name'].astype(str).str[0]\n",
        "K = stat[stat[\"NameGroup\"] == \"K\"]\n",
        "K.value_counts()"
      ],
      "execution_count": 65,
      "outputs": [
        {
          "output_type": "execute_result",
          "data": {
            "text/plain": [
              "PassengerId  Survived  Pclass  Name                          Sex   Age   SibSp  Parch  Ticket  Fare     Cabin  Embarked  NameGroup\n",
              "622          Yes       1       Kimball, Mr. Edwin Nelson Jr  male  42.0  1      0      11753   52.5542  D19    S         K            1\n",
              "488          No        1       Kent, Mr. Edward Austin       male  58.0  0      0      11771   29.7000  B37    C         K            1\n",
              "dtype: int64"
            ]
          },
          "metadata": {
            "tags": []
          },
          "execution_count": 65
        }
      ]
    },
    {
      "cell_type": "code",
      "metadata": {
        "id": "E81qACTfAWl2"
      },
      "source": [
        ""
      ],
      "execution_count": null,
      "outputs": []
    }
  ]
}